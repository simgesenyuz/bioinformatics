{
 "cells": [
  {
   "cell_type": "code",
   "execution_count": null,
   "id": "028c8b67",
   "metadata": {},
   "outputs": [],
   "source": [
    "import requests\n",
    "import json\n",
    "import sys\n",
    "import re\n",
    "import pandas as pd\n",
    "import time"
   ]
  },
  {
   "cell_type": "markdown",
   "id": "ed6e49cc",
   "metadata": {},
   "source": [
    "# Functions to Use"
   ]
  },
  {
   "cell_type": "code",
   "execution_count": null,
   "id": "c373540e",
   "metadata": {},
   "outputs": [],
   "source": [
    "def request_pockets(pdb_id, chain_id):\n",
    "    # Data to be sent in the POST request\n",
    "    data = {\n",
    "        \"dogsite\": {\n",
    "            \"pdbCode\": pdb_id,\n",
    "            \"analysisDetail\": \"1\",\n",
    "            \"bindingSitePredictionGranularity\": \"1\",\n",
    "            \"ligand\": \"\",\n",
    "            \"chain\": chain_id\n",
    "        }\n",
    "    }\n",
    "\n",
    "    # Headers for the request\n",
    "    headers = {\"Accept\": \"application/json\",\n",
    "               \"Content-Type\": \"application/json\"}\n",
    "\n",
    "    # URL to send the request\n",
    "    url = \"https://proteins.plus/api/dogsite_rest\"\n",
    "    \n",
    "    # Sending POST request\n",
    "    response = requests.post(url, data=json.dumps(data), headers=headers)\n",
    "\n",
    "    # Checking the response\n",
    "    counter = 1\n",
    "    while response.status_code != 200:\n",
    "        if response.status_code == 202:\n",
    "            # Jobs run for a while. Adjust the time interval as needed\n",
    "            wait_time = 120\n",
    "            print(f'Job is running. Gonna wait! Waiting for: {counter*wait_time} seconds')\n",
    "            time.sleep(wait_time)\n",
    "            response = requests.post(url, data=json.dumps(data), headers=headers)\n",
    "            counter += 1\n",
    "            print(\"Response:\", response.json())\n",
    "        \n",
    "        elif response.status_code == 400:\n",
    "            print(\"Request failed with status code:\", response.status_code)\n",
    "            print(\"Request failed with error:\", response.error) \n",
    "            print(\"Request failed with message:\", response.message) \n",
    "            break\n",
    "    \n",
    "        elif response.status_code == 429:\n",
    "            print(f\"Too many requests, run this pdb again: {pdb_id}\")\n",
    "            print(\"Request failed with status code:\", response.status_code)\n",
    "            print(\"Request failed with error:\", response.error) \n",
    "            print(\"Request failed with message:\", response.message)\n",
    "            break\n",
    "            \n",
    "        else:\n",
    "            print(f\"Unknown error for: {pdb_id}\")\n",
    "            print(\"Request failed with status code:\", response.status_code)\n",
    "            print(\"Request failed with error:\", response.error) \n",
    "            print(\"Request failed with message:\", response.message)\n",
    "            break\n",
    "            \n",
    "    if response.status_code == 200:\n",
    "        print(\"Request successful!\")\n",
    "        print(\"Response:\", response.json())\n",
    "    \n",
    "    return response"
   ]
  },
  {
   "cell_type": "code",
   "execution_count": null,
   "id": "b9bc8af7",
   "metadata": {},
   "outputs": [],
   "source": [
    "def extract_pocket(pdb):\n",
    "    # Pattern to extract floats after 'Geometric pocket center at' and 'with max radius'\n",
    "    pattern = r\"Geometric pocket center at\\s+([-+]?\\d*\\.\\d+\\s+[-+]?\\d*\\.\\d+\\s+[-+]?\\d*\\.\\d+)\\swith max radius\\s+([-+]?\\d*\\.\\d+)\"\n",
    "\n",
    "    # Finding matches in the text\n",
    "    matches = re.search(pattern, pdb)\n",
    "\n",
    "    if matches:\n",
    "        # Extracting floats and returning as a list\n",
    "        x_coor = matches.group(1).split()[0]\n",
    "        y_coor = matches.group(1).split()[1]\n",
    "        z_coor = matches.group(1).split()[2]\n",
    "        max_radius = matches.group(2)\n",
    "        return x_coor, y_coor, z_coor, max_radius\n",
    "    else:\n",
    "        x_coor, y_coor, z_coor, max_radius = None, None, None, None\n",
    "        return x_coor, y_coor, z_coor, max_radius"
   ]
  },
  {
   "cell_type": "markdown",
   "id": "53316e62",
   "metadata": {},
   "source": [
    "# Example Use for One Pdb/Chain"
   ]
  },
  {
   "cell_type": "code",
   "execution_count": null,
   "id": "57cf86c2",
   "metadata": {},
   "outputs": [],
   "source": [
    "# Pdb id to look for the pockets\n",
    "pdb_id, chain_id = \"1kzk\", \"A\""
   ]
  },
  {
   "cell_type": "code",
   "execution_count": null,
   "id": "1f8f59a6",
   "metadata": {},
   "outputs": [],
   "source": [
    "response = request_pockets(pdb_id, chain_id)\n",
    "job_id = response.json()[\"location\"]\n",
    "# Get the residues\n",
    "pdb_list = requests.get(job_id).json()[\"residues\"]\n",
    "# Get results table, all pockets are here\n",
    "result_table = requests.get(job_id).json()[\"result_table\"]\n",
    "results_table_text = requests.get(result_table).text.split(\"\\n\")\n",
    "\n",
    "df_pocket = pd.DataFrame(results_table_text[1:-1])[0].str.split(\"\\t\",expand=True)\n",
    "header = results_table_text[0].split(\"\\t\")\n",
    "df_pocket.columns = header\n",
    "df_pocket"
   ]
  },
  {
   "cell_type": "code",
   "execution_count": null,
   "id": "e38cab25",
   "metadata": {
    "scrolled": true
   },
   "outputs": [],
   "source": [
    "# Add x, y, and z coordinates, and radius of the pocket for all pockets\n",
    "for pdb in pdb_list:\n",
    "    start_index = pdb.find(pdb_id + \"_\") + len(pdb_id + \"_\")\n",
    "    end_index = pdb.find(\"_res.pdb\")\n",
    "    pocket_name = pdb[start_index:end_index]\n",
    "    \n",
    "    pdb_text = requests.get(pdb).text\n",
    "    x_coor, y_coor, z_coor, max_radius = extract_pocket(pdb_text)\n",
    "\n",
    "    df_pocket.loc[df_pocket[\"name\"]==pocket_name, \"x_coor\"] = x_coor\n",
    "    df_pocket.loc[df_pocket[\"name\"]==pocket_name, \"y_coor\"] = y_coor\n",
    "    df_pocket.loc[df_pocket[\"name\"]==pocket_name, \"z_coor\"] = z_coor\n",
    "\n",
    "    df_pocket.loc[df_pocket[\"name\"]==pocket_name, \"max_radius\"] = max_radius"
   ]
  },
  {
   "cell_type": "code",
   "execution_count": null,
   "id": "bbcee2e6",
   "metadata": {},
   "outputs": [],
   "source": [
    "df_pocket"
   ]
  }
 ],
 "metadata": {
  "kernelspec": {
   "display_name": "Python 3 (ipykernel)",
   "language": "python",
   "name": "python3"
  },
  "language_info": {
   "codemirror_mode": {
    "name": "ipython",
    "version": 3
   },
   "file_extension": ".py",
   "mimetype": "text/x-python",
   "name": "python",
   "nbconvert_exporter": "python",
   "pygments_lexer": "ipython3",
   "version": "3.11.5"
  }
 },
 "nbformat": 4,
 "nbformat_minor": 5
}
